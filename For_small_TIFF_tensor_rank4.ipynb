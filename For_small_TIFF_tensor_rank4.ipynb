{
 "cells": [
  {
   "cell_type": "code",
   "execution_count": null,
   "metadata": {
    "collapsed": false,
    "deletable": true,
    "editable": true
   },
   "outputs": [],
   "source": [
    "import ifc_utils\n",
    "import keras\n",
    "import numpy\n",
    "import matplotlib.pyplot\n",
    "import os.path\n",
    "import pandas\n",
    "\n",
    "import keras.applications\n",
    "import keras.preprocessing.image\n",
    "import tensorflow"
   ]
  },
  {
   "cell_type": "markdown",
   "metadata": {
    "deletable": true,
    "editable": true
   },
   "source": [
    "# User's settings"
   ]
  },
  {
   "cell_type": "code",
   "execution_count": null,
   "metadata": {
    "collapsed": false,
    "deletable": true,
    "editable": true
   },
   "outputs": [],
   "source": [
    "directory = \"/home/minh-doan/Cell_cycle/temp_processed_Juan\"\n",
    "\n",
    "data = {\n",
    "    #\"G1\": \"/home/minh-doan/Cell_cycle/Step2_input_single_tifs/G1/\",\n",
    "    #\"S_phase\": \"/home/minh-doan/Cell_cycle/Step2_input_single_tifs/S_phase/\",\n",
    "    #\"G2\": \"/home/minh-doan/Cell_cycle/Step2_input_single_tifs/G2/\",\n",
    "    #\"Prophase\": \"/home/minh-doan/Cell_cycle/Step2_input_single_tifs/Prophase/\",\n",
    "    \"Anaphase\": \"/home/minh-doan/Cell_cycle/Step2_input_single_tifs/Anaphase/\",\n",
    "    \"Metaphase\": \"/home/minh-doan/Cell_cycle/Step2_input_single_tifs/Metaphase/\",\n",
    "    \"Telophase\": \"/home/minh-doan/Cell_cycle/Step2_input_single_tifs/Telophase/\"\n",
    "}\n",
    "\n",
    "channels = [3]\n",
    "\n",
    "image_size = 40\n",
    "\n",
    "split = {\n",
    "    \"Training\" : 0.8,\n",
    "    \"Validation\" : 0.1,\n",
    "    \"Testing\" : 0.1\n",
    "}"
   ]
  },
  {
   "cell_type": "code",
   "execution_count": null,
   "metadata": {
    "collapsed": false,
    "deletable": true,
    "editable": true
   },
   "outputs": [],
   "source": [
    "class_weights = ifc_utils.parse(directory, data, channels, image_size, split)"
   ]
  },
  {
   "cell_type": "code",
   "execution_count": null,
   "metadata": {
    "collapsed": false,
    "deletable": true,
    "editable": true
   },
   "outputs": [],
   "source": [
    "shape = (image_size, image_size, 1)\n",
    "\n",
    "x = keras.layers.Input(shape)\n",
    "\n",
    "classes = len(data.keys())"
   ]
  },
  {
   "cell_type": "markdown",
   "metadata": {
    "deletable": true,
    "editable": true
   },
   "source": [
    "The classifier architecture is adapted from the LeNet-5 convolutional neural network by Yann LeCunn, et al."
   ]
  },
  {
   "cell_type": "code",
   "execution_count": null,
   "metadata": {
    "collapsed": false,
    "deletable": true,
    "editable": true
   },
   "outputs": [],
   "source": [
    "options = {\"activation\": \"relu\", \"kernel_size\": (3, 3)}\n",
    "\n",
    "y = keras.layers.Conv2D(32, **options)(x)\n",
    "y = keras.layers.Conv2D(64, **options)(y)\n",
    "\n",
    "y = keras.layers.MaxPooling2D()(y)\n",
    "\n",
    "y = keras.layers.Dropout(0.5)(y)\n",
    "\n",
    "y = keras.layers.Flatten()(y)\n",
    "\n",
    "y = keras.layers.Dense(128, activation=\"relu\")(y)\n",
    "\n",
    "y = keras.layers.Dropout(0.5)(y)\n",
    "\n",
    "y = keras.layers.Dense(classes)(y)\n",
    "\n",
    "y = keras.layers.Activation(\"softmax\")(y)"
   ]
  },
  {
   "cell_type": "code",
   "execution_count": null,
   "metadata": {
    "collapsed": false,
    "deletable": true,
    "editable": true
   },
   "outputs": [],
   "source": [
    "model = keras.models.Model(x, y)"
   ]
  },
  {
   "cell_type": "code",
   "execution_count": null,
   "metadata": {
    "collapsed": false,
    "deletable": true,
    "editable": true
   },
   "outputs": [],
   "source": [
    "loss = keras.losses.categorical_crossentropy\n",
    "\n",
    "optimizer = keras.optimizers.Adam(0.0001)\n",
    "\n",
    "model.compile(\n",
    "    loss=loss, \n",
    "    metrics=[\n",
    "        \"accuracy\"\n",
    "    ],\n",
    "    optimizer=optimizer\n",
    ")"
   ]
  },
  {
   "cell_type": "code",
   "execution_count": null,
   "metadata": {
    "collapsed": false,
    "deletable": true,
    "editable": true
   },
   "outputs": [],
   "source": [
    "training_x = numpy.load(os.path.join(directory, \"training_x.npy\"))\n",
    "\n",
    "training_y = numpy.load(os.path.join(directory, \"training_y.npy\"))"
   ]
  },
  {
   "cell_type": "code",
   "execution_count": null,
   "metadata": {
    "collapsed": false,
    "deletable": true,
    "editable": true
   },
   "outputs": [],
   "source": [
    "training_generator = keras.preprocessing.image.ImageDataGenerator(rotation_range = 180, horizontal_flip = True, vertical_flip = True)\n",
    "\n",
    "training_generator = training_generator.flow(\n",
    "    x = training_x,\n",
    "    y = training_y,\n",
    "    batch_size=32\n",
    ")"
   ]
  },
  {
   "cell_type": "code",
   "execution_count": null,
   "metadata": {
    "collapsed": false,
    "deletable": true,
    "editable": true
   },
   "outputs": [],
   "source": [
    "validation_x = numpy.load(os.path.join(directory, \"validation_x.npy\"))\n",
    "\n",
    "validation_y = numpy.load(os.path.join(directory, \"validation_y.npy\"))"
   ]
  },
  {
   "cell_type": "code",
   "execution_count": null,
   "metadata": {
    "collapsed": false,
    "deletable": true,
    "editable": true
   },
   "outputs": [],
   "source": [
    "validation_generator = keras.preprocessing.image.ImageDataGenerator(rotation_range = 180, horizontal_flip = True, vertical_flip = True)\n",
    "\n",
    "validation_generator = validation_generator.flow(\n",
    "    x = validation_x,\n",
    "    y = validation_y,\n",
    "    batch_size=32\n",
    ")"
   ]
  },
  {
   "cell_type": "code",
   "execution_count": null,
   "metadata": {
    "collapsed": false,
    "deletable": true,
    "editable": true
   },
   "outputs": [],
   "source": [
    "csv_logger = keras.callbacks.CSVLogger(os.path.join(directory, 'training.csv') )\n",
    "\n",
    "early_stopping = keras.callbacks.EarlyStopping(patience=64)\n",
    "\n",
    "# checkpoint\n",
    "filepath = os.path.join(directory, \"weights.best.hdf5\")\n",
    "checkpoint = keras.callbacks.ModelCheckpoint(filepath, monitor='val_categorical_accuracy', verbose=1, save_best_only=True, mode='max')"
   ]
  },
  {
   "cell_type": "code",
   "execution_count": null,
   "metadata": {
    "collapsed": false,
    "deletable": true,
    "editable": true
   },
   "outputs": [],
   "source": [
    "configuration = tensorflow.ConfigProto()\n",
    "\n",
    "configuration.gpu_options.allow_growth = True\n",
    "\n",
    "session = tensorflow.Session(config=configuration)\n",
    "\n",
    "keras.backend.set_session(session)"
   ]
  },
  {
   "cell_type": "code",
   "execution_count": null,
   "metadata": {
    "collapsed": false,
    "deletable": true,
    "editable": true
   },
   "outputs": [],
   "source": [
    "with tensorflow.device(\"/gpu:2\"):\n",
    "    model.fit_generator(\n",
    "        callbacks=[\n",
    "            checkpoint\n",
    "            #csv_logger\n",
    "        ],\n",
    "        epochs=1,\n",
    "        class_weight= class_weights,\n",
    "        generator=training_generator,\n",
    "        max_q_size=256,\n",
    "        steps_per_epoch=2000,\n",
    "        validation_data=validation_generator,\n",
    "        validation_steps=2000\n",
    "    )"
   ]
  },
  {
   "cell_type": "code",
   "execution_count": null,
   "metadata": {
    "collapsed": false,
    "deletable": true,
    "editable": true
   },
   "outputs": [],
   "source": [
    "testing_x = numpy.load(os.path.join(directory, \"testing_x.npy\"))\n",
    "\n",
    "testing_y = numpy.load(os.path.join(directory, \"testing_y.npy\"))"
   ]
  },
  {
   "cell_type": "code",
   "execution_count": null,
   "metadata": {
    "collapsed": false,
    "deletable": true,
    "editable": true
   },
   "outputs": [],
   "source": [
    "test_generator = keras.preprocessing.image.ImageDataGenerator(rotation_range = 180, horizontal_flip = True, vertical_flip = True)\n",
    "\n",
    "test_generator = test_generator.flow(\n",
    "    x = testing_x,\n",
    "    y = testing_y,\n",
    "    batch_size=32\n",
    ")\n",
    "\n",
    "model.evaluate_generator(\n",
    "    generator=test_generator, \n",
    "    steps=256\n",
    ")"
   ]
  },
  {
   "cell_type": "code",
   "execution_count": null,
   "metadata": {
    "collapsed": false
   },
   "outputs": [],
   "source": [
    "session.close()"
   ]
  },
  {
   "cell_type": "code",
   "execution_count": null,
   "metadata": {
    "collapsed": true
   },
   "outputs": [],
   "source": []
  }
 ],
 "metadata": {
  "kernelspec": {
   "display_name": "Python 3",
   "language": "python",
   "name": "python3"
  },
  "language_info": {
   "codemirror_mode": {
    "name": "ipython",
    "version": 3
   },
   "file_extension": ".py",
   "mimetype": "text/x-python",
   "name": "python",
   "nbconvert_exporter": "python",
   "pygments_lexer": "ipython3",
   "version": "3.6.1"
  }
 },
 "nbformat": 4,
 "nbformat_minor": 2
}
